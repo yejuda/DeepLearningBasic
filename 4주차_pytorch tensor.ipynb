{
 "cells": [
  {
   "cell_type": "markdown",
   "id": "46abf4e2",
   "metadata": {},
   "source": [
    "## Intro to Pytorch Tensors"
   ]
  },
  {
   "cell_type": "code",
   "execution_count": 1,
   "id": "9d5a1330",
   "metadata": {},
   "outputs": [],
   "source": [
    "import numpy as np\n",
    "import torch"
   ]
  },
  {
   "cell_type": "code",
   "execution_count": 8,
   "id": "2cf851a6",
   "metadata": {},
   "outputs": [
    {
     "data": {
      "text/plain": [
       "array([1, 2, 3])"
      ]
     },
     "execution_count": 8,
     "metadata": {},
     "output_type": "execute_result"
    }
   ],
   "source": [
    "a = np.array([1,2,3])\n",
    "a"
   ]
  },
  {
   "cell_type": "code",
   "execution_count": 9,
   "id": "526a467f",
   "metadata": {},
   "outputs": [
    {
     "data": {
      "text/plain": [
       "(3,)"
      ]
     },
     "execution_count": 9,
     "metadata": {},
     "output_type": "execute_result"
    }
   ],
   "source": [
    "a.shape"
   ]
  },
  {
   "cell_type": "markdown",
   "id": "f8025f3b",
   "metadata": {},
   "source": [
    "* Torch Tensors"
   ]
  },
  {
   "cell_type": "code",
   "execution_count": 3,
   "id": "33794f20",
   "metadata": {},
   "outputs": [
    {
     "data": {
      "text/plain": [
       "tensor([1, 2, 3])"
      ]
     },
     "execution_count": 3,
     "metadata": {},
     "output_type": "execute_result"
    }
   ],
   "source": [
    "b = torch.tensor([1,2,3])   # np -> torch / array -> tensor\n",
    "b"
   ]
  },
  {
   "cell_type": "code",
   "execution_count": 7,
   "id": "38134e65",
   "metadata": {},
   "outputs": [
    {
     "data": {
      "text/plain": [
       "1"
      ]
     },
     "execution_count": 7,
     "metadata": {},
     "output_type": "execute_result"
    }
   ],
   "source": [
    "b.ndim"
   ]
  },
  {
   "cell_type": "code",
   "execution_count": 4,
   "id": "52655cb2",
   "metadata": {},
   "outputs": [
    {
     "data": {
      "text/plain": [
       "torch.Size([3])"
      ]
     },
     "execution_count": 4,
     "metadata": {},
     "output_type": "execute_result"
    }
   ],
   "source": [
    "b.shape"
   ]
  },
  {
   "cell_type": "code",
   "execution_count": 5,
   "id": "ba0e2cf4",
   "metadata": {},
   "outputs": [
    {
     "data": {
      "text/plain": [
       "tensor([1, 2, 3], dtype=torch.int32)"
      ]
     },
     "execution_count": 5,
     "metadata": {},
     "output_type": "execute_result"
    }
   ],
   "source": [
    "# numpy를 tensor로 바꾸기 위해 사용하는 방법\n",
    "\n",
    "c = torch.from_numpy(a)  # a를 numpy에서 가져와라. / a가 array에서 tensor로 바뀜\n",
    "c"
   ]
  },
  {
   "cell_type": "code",
   "execution_count": 6,
   "id": "206c150a",
   "metadata": {},
   "outputs": [
    {
     "data": {
      "text/plain": [
       "torch.Size([3])"
      ]
     },
     "execution_count": 6,
     "metadata": {},
     "output_type": "execute_result"
    }
   ],
   "source": [
    "c.shape  # 1차원의 단수(길이)가 3짜리 tensor"
   ]
  },
  {
   "cell_type": "code",
   "execution_count": 10,
   "id": "a68fc7f5",
   "metadata": {},
   "outputs": [
    {
     "data": {
      "text/plain": [
       "tensor([[1, 2, 3]])"
      ]
     },
     "execution_count": 10,
     "metadata": {},
     "output_type": "execute_result"
    }
   ],
   "source": [
    "torch.tensor([[1,2,3]])"
   ]
  },
  {
   "cell_type": "code",
   "execution_count": 13,
   "id": "dbf2105d",
   "metadata": {},
   "outputs": [
    {
     "data": {
      "text/plain": [
       "tensor([[1],\n",
       "        [2],\n",
       "        [3]])"
      ]
     },
     "execution_count": 13,
     "metadata": {},
     "output_type": "execute_result"
    }
   ],
   "source": [
    "d = torch.tensor([[1,2,3]]).reshape(-1, 1)  # 1차원 텐서는 언제나 row벡터이다. col벡터로 만들 때는 reshape사용.(두개의 차원을 입력해줌)\n",
    "d"
   ]
  },
  {
   "cell_type": "code",
   "execution_count": 18,
   "id": "ec59c677",
   "metadata": {},
   "outputs": [
    {
     "name": "stderr",
     "output_type": "stream",
     "text": [
      "C:\\Users\\이예주\\AppData\\Local\\Temp\\ipykernel_14368\\1483434604.py:1: UserWarning: The use of `x.T` on tensors of dimension other than 2 to reverse their shape is deprecated and it will throw an error in a future release. Consider `x.mT` to transpose batches of matrices or `x.permute(*torch.arange(x.ndim - 1, -1, -1))` to reverse the dimensions of a tensor. (Triggered internally at C:\\cb\\pytorch_1000000000000\\work\\aten\\src\\ATen\\native\\TensorShape.cpp:3281.)\n",
      "  torch.tensor([1,2,3]).T\n"
     ]
    },
    {
     "data": {
      "text/plain": [
       "tensor([1, 2, 3])"
      ]
     },
     "execution_count": 18,
     "metadata": {},
     "output_type": "execute_result"
    }
   ],
   "source": [
    "torch.tensor([1,2,3]).T   # 1차원은 transpose가 되지 않음"
   ]
  },
  {
   "cell_type": "code",
   "execution_count": 19,
   "id": "1b2b1d61",
   "metadata": {
    "scrolled": true
   },
   "outputs": [
    {
     "data": {
      "text/plain": [
       "tensor([[1, 2, 3]])"
      ]
     },
     "execution_count": 19,
     "metadata": {},
     "output_type": "execute_result"
    }
   ],
   "source": [
    "torch.tensor([1,2,3]).reshape(1, -1)   # reshape로 인해 2차원으로 변경된 것을 볼 수 있음"
   ]
  },
  {
   "cell_type": "code",
   "execution_count": 20,
   "id": "b35cfec3",
   "metadata": {},
   "outputs": [
    {
     "data": {
      "text/plain": [
       "tensor([[1],\n",
       "        [2],\n",
       "        [3]])"
      ]
     },
     "execution_count": 20,
     "metadata": {},
     "output_type": "execute_result"
    }
   ],
   "source": [
    "torch.tensor([[1,2,3]]).reshape(1, -1).T   # 2차원으로 변경됐기 때문에 transpose도 가능."
   ]
  },
  {
   "cell_type": "markdown",
   "id": "3ab24c17",
   "metadata": {},
   "source": [
    "**column 벡터는 무조건 2차원으로 밖에 표현 못한다.**"
   ]
  },
  {
   "cell_type": "markdown",
   "id": "f38f6df7",
   "metadata": {},
   "source": [
    "* list에서 생성\n",
    "* indexing, slicing"
   ]
  },
  {
   "cell_type": "code",
   "execution_count": 11,
   "id": "692d950c",
   "metadata": {},
   "outputs": [
    {
     "data": {
      "text/plain": [
       "tensor([[5, 6, 8],\n",
       "        [6, 7, 4]])"
      ]
     },
     "execution_count": 11,
     "metadata": {},
     "output_type": "execute_result"
    }
   ],
   "source": [
    "X = torch.tensor([[5, 6, 8], [6, 7, 4]])  # 2 x 3 tensor\n",
    "X"
   ]
  },
  {
   "cell_type": "code",
   "execution_count": 15,
   "id": "f7694b08",
   "metadata": {},
   "outputs": [
    {
     "data": {
      "text/plain": [
       "tensor([1, 2, 3])"
      ]
     },
     "execution_count": 15,
     "metadata": {},
     "output_type": "execute_result"
    }
   ],
   "source": [
    "q = torch.tensor([[1,2,3]])\n",
    "q.squeeze() # squeeze 해서 1차원으로 해서 돌려줌"
   ]
  },
  {
   "cell_type": "code",
   "execution_count": 12,
   "id": "b75360e0",
   "metadata": {},
   "outputs": [
    {
     "data": {
      "text/plain": [
       "tensor([6, 7])"
      ]
     },
     "execution_count": 12,
     "metadata": {},
     "output_type": "execute_result"
    }
   ],
   "source": [
    "X[:,1]  "
   ]
  },
  {
   "cell_type": "code",
   "execution_count": 22,
   "id": "3f166f82",
   "metadata": {},
   "outputs": [
    {
     "data": {
      "text/plain": [
       "tensor([[6],\n",
       "        [7]])"
      ]
     },
     "execution_count": 22,
     "metadata": {},
     "output_type": "execute_result"
    }
   ],
   "source": [
    "X[:,1].reshape(-1, 1)  # reshape를 통해 2차원으로 돌려줌"
   ]
  },
  {
   "cell_type": "code",
   "execution_count": null,
   "id": "013cd467",
   "metadata": {},
   "outputs": [],
   "source": []
  },
  {
   "cell_type": "markdown",
   "id": "ece16e1c",
   "metadata": {},
   "source": [
    "* dtype를 지정하고 싶으면?   \n",
    "   >dtype = torch.float64 를 뒤에 붙여주기"
   ]
  },
  {
   "cell_type": "code",
   "execution_count": 17,
   "id": "4ce32b43",
   "metadata": {},
   "outputs": [],
   "source": [
    "a = torch.tensor([[[12, 3, 4]]])   "
   ]
  },
  {
   "cell_type": "code",
   "execution_count": 30,
   "id": "db17a187",
   "metadata": {},
   "outputs": [
    {
     "data": {
      "text/plain": [
       "3"
      ]
     },
     "execution_count": 30,
     "metadata": {},
     "output_type": "execute_result"
    }
   ],
   "source": [
    "a.ndim"
   ]
  },
  {
   "cell_type": "code",
   "execution_count": 31,
   "id": "094966d3",
   "metadata": {},
   "outputs": [
    {
     "data": {
      "text/plain": [
       "torch.Size([1, 1, 3])"
      ]
     },
     "execution_count": 31,
     "metadata": {},
     "output_type": "execute_result"
    }
   ],
   "source": [
    "a.shape"
   ]
  },
  {
   "cell_type": "code",
   "execution_count": 32,
   "id": "f2e2f4ee",
   "metadata": {},
   "outputs": [
    {
     "data": {
      "text/plain": [
       "torch.int64"
      ]
     },
     "execution_count": 32,
     "metadata": {},
     "output_type": "execute_result"
    }
   ],
   "source": [
    "a.dtype"
   ]
  },
  {
   "cell_type": "code",
   "execution_count": 34,
   "id": "840546a0",
   "metadata": {},
   "outputs": [
    {
     "data": {
      "text/plain": [
       "device(type='cpu')"
      ]
     },
     "execution_count": 34,
     "metadata": {},
     "output_type": "execute_result"
    }
   ],
   "source": [
    "# cpu에서 운영되고 있는지, gpu에서 운영되고 있는지 알려주는 함수\n",
    "a.device"
   ]
  },
  {
   "cell_type": "code",
   "execution_count": 35,
   "id": "9e04a963",
   "metadata": {},
   "outputs": [
    {
     "data": {
      "text/plain": [
       "tensor([1., 2., 3., 4., 5.], dtype=torch.float64)"
      ]
     },
     "execution_count": 35,
     "metadata": {},
     "output_type": "execute_result"
    }
   ],
   "source": [
    "# 미리 지정해주기\n",
    "b = torch.tensor([1,2,3,4,5], dtype = torch.float64, device = 'cpu')\n",
    "b"
   ]
  },
  {
   "cell_type": "code",
   "execution_count": 36,
   "id": "b9836275",
   "metadata": {},
   "outputs": [],
   "source": [
    "a = torch.tensor([12,3,4])"
   ]
  },
  {
   "cell_type": "code",
   "execution_count": 37,
   "id": "8745cfc7",
   "metadata": {},
   "outputs": [],
   "source": [
    "b = torch.tensor([[12,3,4]])"
   ]
  },
  {
   "cell_type": "code",
   "execution_count": 38,
   "id": "7b0c1898",
   "metadata": {},
   "outputs": [
    {
     "data": {
      "text/plain": [
       "1"
      ]
     },
     "execution_count": 38,
     "metadata": {},
     "output_type": "execute_result"
    }
   ],
   "source": [
    "a.ndim"
   ]
  },
  {
   "cell_type": "code",
   "execution_count": 39,
   "id": "7334e09e",
   "metadata": {},
   "outputs": [
    {
     "data": {
      "text/plain": [
       "2"
      ]
     },
     "execution_count": 39,
     "metadata": {},
     "output_type": "execute_result"
    }
   ],
   "source": [
    "b.ndim"
   ]
  },
  {
   "cell_type": "markdown",
   "id": "2fa93644",
   "metadata": {},
   "source": [
    "* from_numpy\n",
    "* numpy()"
   ]
  },
  {
   "cell_type": "code",
   "execution_count": 40,
   "id": "4bb4f687",
   "metadata": {},
   "outputs": [
    {
     "data": {
      "text/plain": [
       "array([1, 2, 3])"
      ]
     },
     "execution_count": 40,
     "metadata": {},
     "output_type": "execute_result"
    }
   ],
   "source": [
    "a = np.array([1,2,3])\n",
    "a"
   ]
  },
  {
   "cell_type": "markdown",
   "id": "9045df35",
   "metadata": {},
   "source": [
    "#### array에서 tensor로 변경 "
   ]
  },
  {
   "cell_type": "code",
   "execution_count": 41,
   "id": "3041cf26",
   "metadata": {},
   "outputs": [
    {
     "data": {
      "text/plain": [
       "tensor([1, 2, 3], dtype=torch.int32)"
      ]
     },
     "execution_count": 41,
     "metadata": {},
     "output_type": "execute_result"
    }
   ],
   "source": [
    "b = torch.from_numpy(a)  # array가 tensor로 변경\n",
    "b"
   ]
  },
  {
   "cell_type": "markdown",
   "id": "97f7ee21",
   "metadata": {},
   "source": [
    "#### tensor에서 array로 변경"
   ]
  },
  {
   "cell_type": "code",
   "execution_count": 43,
   "id": "decbf878",
   "metadata": {},
   "outputs": [
    {
     "data": {
      "text/plain": [
       "array([1, 2, 3])"
      ]
     },
     "execution_count": 43,
     "metadata": {},
     "output_type": "execute_result"
    }
   ],
   "source": [
    "c = b.numpy()\n",
    "c"
   ]
  },
  {
   "cell_type": "markdown",
   "id": "4497fd45",
   "metadata": {},
   "source": [
    "(수학) 차원 확인 명령어   \n",
    "* X.shape"
   ]
  },
  {
   "cell_type": "code",
   "execution_count": 44,
   "id": "14e116eb",
   "metadata": {},
   "outputs": [],
   "source": [
    "X = torch.tensor([[1],[2],[3]])   # column 벡터로 생성하겠다. 라는 뜻"
   ]
  },
  {
   "cell_type": "code",
   "execution_count": 45,
   "id": "9ec29f54",
   "metadata": {},
   "outputs": [
    {
     "data": {
      "text/plain": [
       "tensor([[1],\n",
       "        [2],\n",
       "        [3]])"
      ]
     },
     "execution_count": 45,
     "metadata": {},
     "output_type": "execute_result"
    }
   ],
   "source": [
    "X"
   ]
  },
  {
   "cell_type": "code",
   "execution_count": 46,
   "id": "a3cdfacf",
   "metadata": {},
   "outputs": [
    {
     "data": {
      "text/plain": [
       "torch.Size([3, 1])"
      ]
     },
     "execution_count": 46,
     "metadata": {},
     "output_type": "execute_result"
    }
   ],
   "source": [
    "X.shape  # 돌려주는 값도 torch.Size로 자체적인 것으로 돌려줌"
   ]
  },
  {
   "cell_type": "code",
   "execution_count": 50,
   "id": "5e0d5e31",
   "metadata": {},
   "outputs": [
    {
     "data": {
      "text/plain": [
       "(3,)"
      ]
     },
     "execution_count": 50,
     "metadata": {},
     "output_type": "execute_result"
    }
   ],
   "source": [
    "a.shape   # numpy는 튜플로 돌려줌"
   ]
  },
  {
   "cell_type": "code",
   "execution_count": null,
   "id": "2dafb0b5",
   "metadata": {},
   "outputs": [],
   "source": []
  },
  {
   "cell_type": "code",
   "execution_count": 47,
   "id": "9cf3230d",
   "metadata": {},
   "outputs": [
    {
     "data": {
      "text/plain": [
       "tensor([1, 2, 3])"
      ]
     },
     "execution_count": 47,
     "metadata": {},
     "output_type": "execute_result"
    }
   ],
   "source": [
    "torch.tensor([[1],[2],[3]]).reshape(3)  # 차원이 1인 값 출력. (1차원, 길이 3)"
   ]
  },
  {
   "cell_type": "code",
   "execution_count": 48,
   "id": "3ae32f65",
   "metadata": {},
   "outputs": [
    {
     "data": {
      "text/plain": [
       "tensor([[1, 2, 3]])"
      ]
     },
     "execution_count": 48,
     "metadata": {},
     "output_type": "execute_result"
    }
   ],
   "source": [
    "torch.tensor([[1],[2],[3]]).reshape(1, 3)  # reshape로 인해 2차원으로 바뀜(+1행 3열)"
   ]
  },
  {
   "cell_type": "code",
   "execution_count": 49,
   "id": "df12c7ea",
   "metadata": {},
   "outputs": [
    {
     "data": {
      "text/plain": [
       "tensor([[1],\n",
       "        [2],\n",
       "        [3]])"
      ]
     },
     "execution_count": 49,
     "metadata": {},
     "output_type": "execute_result"
    }
   ],
   "source": [
    "torch.tensor([[1],[2],[3]]).reshape(3, 1)"
   ]
  },
  {
   "cell_type": "markdown",
   "id": "265ccc5b",
   "metadata": {},
   "source": [
    "### 행렬"
   ]
  },
  {
   "cell_type": "code",
   "execution_count": 51,
   "id": "19dc7e3b",
   "metadata": {},
   "outputs": [
    {
     "data": {
      "text/plain": [
       "tensor([[1., 2., 3.],\n",
       "        [4., 5., 6.]])"
      ]
     },
     "execution_count": 51,
     "metadata": {},
     "output_type": "execute_result"
    }
   ],
   "source": [
    "x = torch.tensor([[1., 2., 3.],   # 2 x 3 행렬\n",
    "                 [4., 5., 6.]])\n",
    "x"
   ]
  },
  {
   "cell_type": "code",
   "execution_count": 52,
   "id": "b8069ded",
   "metadata": {},
   "outputs": [
    {
     "data": {
      "text/plain": [
       "torch.Size([2, 3])"
      ]
     },
     "execution_count": 52,
     "metadata": {},
     "output_type": "execute_result"
    }
   ],
   "source": [
    "x.shape"
   ]
  },
  {
   "cell_type": "code",
   "execution_count": 53,
   "id": "7e01e7bd",
   "metadata": {},
   "outputs": [
    {
     "data": {
      "text/plain": [
       "tensor([[1., 4.],\n",
       "        [2., 5.],\n",
       "        [3., 6.]])"
      ]
     },
     "execution_count": 53,
     "metadata": {},
     "output_type": "execute_result"
    }
   ],
   "source": [
    "x.T  # 전치도 가능"
   ]
  },
  {
   "cell_type": "code",
   "execution_count": 54,
   "id": "0e137666",
   "metadata": {},
   "outputs": [
    {
     "data": {
      "text/plain": [
       "tensor([[1., 2.],\n",
       "        [3., 4.],\n",
       "        [5., 6.]])"
      ]
     },
     "execution_count": 54,
     "metadata": {},
     "output_type": "execute_result"
    }
   ],
   "source": [
    "x.reshape(3, 2)"
   ]
  },
  {
   "cell_type": "code",
   "execution_count": 55,
   "id": "6ce76a75",
   "metadata": {},
   "outputs": [
    {
     "data": {
      "text/plain": [
       "tensor([1., 2., 3., 4., 5., 6.])"
      ]
     },
     "execution_count": 55,
     "metadata": {},
     "output_type": "execute_result"
    }
   ],
   "source": [
    "x.reshape(6)"
   ]
  },
  {
   "cell_type": "code",
   "execution_count": 57,
   "id": "2790d706",
   "metadata": {},
   "outputs": [
    {
     "data": {
      "text/plain": [
       "tensor([[1.],\n",
       "        [2.],\n",
       "        [3.],\n",
       "        [4.],\n",
       "        [5.],\n",
       "        [6.]])"
      ]
     },
     "execution_count": 57,
     "metadata": {},
     "output_type": "execute_result"
    }
   ],
   "source": [
    "x.reshape(6, 1)"
   ]
  },
  {
   "cell_type": "markdown",
   "id": "0f37c2bd",
   "metadata": {},
   "source": [
    "### Vector transpose 주의점!!\n",
    "* (중요) transpose 연산자는 1D array는 변환하지 못한다!"
   ]
  },
  {
   "cell_type": "code",
   "execution_count": 62,
   "id": "50515d3e",
   "metadata": {},
   "outputs": [],
   "source": [
    "a = torch.tensor([1,2,3])"
   ]
  },
  {
   "cell_type": "code",
   "execution_count": 59,
   "id": "d73dd538",
   "metadata": {},
   "outputs": [
    {
     "data": {
      "text/plain": [
       "tensor([1, 2, 3])"
      ]
     },
     "execution_count": 59,
     "metadata": {},
     "output_type": "execute_result"
    }
   ],
   "source": [
    "a.T"
   ]
  },
  {
   "cell_type": "code",
   "execution_count": 60,
   "id": "5bb64c4f",
   "metadata": {},
   "outputs": [
    {
     "data": {
      "text/plain": [
       "1"
      ]
     },
     "execution_count": 60,
     "metadata": {},
     "output_type": "execute_result"
    }
   ],
   "source": [
    "a.ndim"
   ]
  },
  {
   "cell_type": "code",
   "execution_count": 63,
   "id": "5842328e",
   "metadata": {},
   "outputs": [],
   "source": [
    "b = torch.tensor([[1,2,3]])"
   ]
  },
  {
   "cell_type": "code",
   "execution_count": 64,
   "id": "c92e0959",
   "metadata": {},
   "outputs": [
    {
     "data": {
      "text/plain": [
       "tensor([[1],\n",
       "        [2],\n",
       "        [3]])"
      ]
     },
     "execution_count": 64,
     "metadata": {},
     "output_type": "execute_result"
    }
   ],
   "source": [
    "b.T   # 2차원은 가능"
   ]
  },
  {
   "cell_type": "code",
   "execution_count": null,
   "id": "aac27da2",
   "metadata": {},
   "outputs": [],
   "source": []
  },
  {
   "cell_type": "code",
   "execution_count": 65,
   "id": "9f45aa97",
   "metadata": {},
   "outputs": [
    {
     "name": "stdout",
     "output_type": "stream",
     "text": [
      "x1= tensor([[5],\n",
      "        [6],\n",
      "        [7]])\n",
      "x2= tensor([[6],\n",
      "        [7],\n",
      "        [5]])\n"
     ]
    }
   ],
   "source": [
    "x1 = torch.tensor([[5], [6], [7]])\n",
    "x2 = torch.tensor([[6], [7], [5]])\n",
    "print('x1=', x1)\n",
    "print('x2=', x2)"
   ]
  },
  {
   "cell_type": "code",
   "execution_count": 66,
   "id": "1ec4c012",
   "metadata": {},
   "outputs": [
    {
     "data": {
      "text/plain": [
       "torch.Size([3, 1])"
      ]
     },
     "execution_count": 66,
     "metadata": {},
     "output_type": "execute_result"
    }
   ],
   "source": [
    "x2.shape"
   ]
  },
  {
   "cell_type": "code",
   "execution_count": 67,
   "id": "119201b4",
   "metadata": {},
   "outputs": [
    {
     "name": "stdout",
     "output_type": "stream",
     "text": [
      "x1T= tensor([[5, 6, 7]])\n",
      "x2T= tensor([[6, 7, 5]])\n"
     ]
    }
   ],
   "source": [
    "x1T = x1.T\n",
    "x2T = x2.T\n",
    "print('x1T=', x1T)\n",
    "print('x2T=', x2T)"
   ]
  },
  {
   "cell_type": "code",
   "execution_count": 68,
   "id": "8c68042a",
   "metadata": {},
   "outputs": [
    {
     "data": {
      "text/plain": [
       "tensor([[5, 6, 7]])"
      ]
     },
     "execution_count": 68,
     "metadata": {},
     "output_type": "execute_result"
    }
   ],
   "source": [
    "x1TT = x1.reshape(1,3)   # 전치 대신에 reshape를 해도 된다.\n",
    "x1TT"
   ]
  },
  {
   "cell_type": "markdown",
   "id": "52db54b8",
   "metadata": {},
   "source": [
    "* vstack"
   ]
  },
  {
   "cell_type": "code",
   "execution_count": 69,
   "id": "9e8a1dc5",
   "metadata": {},
   "outputs": [
    {
     "data": {
      "text/plain": [
       "tensor([[5, 6, 7],\n",
       "        [6, 7, 5]])"
      ]
     },
     "execution_count": 69,
     "metadata": {},
     "output_type": "execute_result"
    }
   ],
   "source": [
    "X = torch.vstack([x1.T, x2.T])  # 위아래로 쌓기\n",
    "X"
   ]
  },
  {
   "cell_type": "markdown",
   "id": "e0208bf4",
   "metadata": {},
   "source": [
    "* hstack"
   ]
  },
  {
   "cell_type": "code",
   "execution_count": 70,
   "id": "6fa8dddc",
   "metadata": {},
   "outputs": [
    {
     "data": {
      "text/plain": [
       "tensor([[5, 6, 7, 6, 7, 5]])"
      ]
     },
     "execution_count": 70,
     "metadata": {},
     "output_type": "execute_result"
    }
   ],
   "source": [
    "Xhstack = torch.hstack([x1T, x2T])   # 옆으로 쌓기\n",
    "Xhstack"
   ]
  },
  {
   "cell_type": "code",
   "execution_count": 71,
   "id": "e82a72ec",
   "metadata": {},
   "outputs": [
    {
     "data": {
      "text/plain": [
       "tensor([[5, 6],\n",
       "        [6, 7],\n",
       "        [7, 5]])"
      ]
     },
     "execution_count": 71,
     "metadata": {},
     "output_type": "execute_result"
    }
   ],
   "source": [
    "Xhstack2 = torch.hstack([x1, x2])\n",
    "Xhstack2"
   ]
  },
  {
   "cell_type": "markdown",
   "id": "3a42d192",
   "metadata": {},
   "source": [
    "* zeros"
   ]
  },
  {
   "cell_type": "code",
   "execution_count": 72,
   "id": "0cb11d3c",
   "metadata": {},
   "outputs": [
    {
     "data": {
      "text/plain": [
       "tensor([[0., 0., 0.]])"
      ]
     },
     "execution_count": 72,
     "metadata": {},
     "output_type": "execute_result"
    }
   ],
   "source": [
    "zvec = torch.zeros((1,3))\n",
    "zvec"
   ]
  },
  {
   "cell_type": "code",
   "execution_count": 73,
   "id": "06c88a29",
   "metadata": {},
   "outputs": [
    {
     "data": {
      "text/plain": [
       "tensor([0, 1, 2, 3, 4, 5, 6, 7, 8, 9])"
      ]
     },
     "execution_count": 73,
     "metadata": {},
     "output_type": "execute_result"
    }
   ],
   "source": [
    "torch.arange(0, 10, 1)"
   ]
  },
  {
   "cell_type": "code",
   "execution_count": 74,
   "id": "188c242e",
   "metadata": {},
   "outputs": [
    {
     "name": "stdout",
     "output_type": "stream",
     "text": [
      "tensor(0)\n",
      "tensor(1)\n",
      "tensor(2)\n",
      "tensor(3)\n",
      "tensor(4)\n",
      "tensor(5)\n",
      "tensor(6)\n",
      "tensor(7)\n",
      "tensor(8)\n",
      "tensor(9)\n"
     ]
    }
   ],
   "source": [
    "for i in torch.arange(10):\n",
    "    print(i)"
   ]
  },
  {
   "cell_type": "code",
   "execution_count": 75,
   "id": "847c6f4a",
   "metadata": {},
   "outputs": [],
   "source": [
    "a = torch.linspace(0,4,10)"
   ]
  },
  {
   "cell_type": "code",
   "execution_count": 77,
   "id": "25e0afb9",
   "metadata": {},
   "outputs": [
    {
     "data": {
      "text/plain": [
       "torch.Size([10])"
      ]
     },
     "execution_count": 77,
     "metadata": {},
     "output_type": "execute_result"
    }
   ],
   "source": [
    "a.shape  # 값이 10개인 것을 볼 수 있음."
   ]
  },
  {
   "cell_type": "markdown",
   "id": "29909923",
   "metadata": {},
   "source": [
    "### 균일 분포 생성"
   ]
  },
  {
   "cell_type": "markdown",
   "id": "14af73b0",
   "metadata": {},
   "source": [
    "* rand   \n",
    "균일 분포 생성"
   ]
  },
  {
   "cell_type": "code",
   "execution_count": 78,
   "id": "fa7eda4f",
   "metadata": {},
   "outputs": [
    {
     "data": {
      "text/plain": [
       "tensor([[0.1913, 0.8237, 0.9699, 0.5395, 0.8957, 0.1801, 0.8800, 0.2225, 0.2759,\n",
       "         0.4960]])"
      ]
     },
     "execution_count": 78,
     "metadata": {},
     "output_type": "execute_result"
    }
   ],
   "source": [
    "d = torch.rand(1,10)  # 0에서 1사이를 균일하게 10개 만들어라.\n",
    "d"
   ]
  },
  {
   "cell_type": "code",
   "execution_count": 79,
   "id": "965f2568",
   "metadata": {},
   "outputs": [
    {
     "data": {
      "text/plain": [
       "tensor([[0.6091, 1.2098, 0.0062, 0.8059, 1.1081, 1.1420, 1.8809, 1.6437, 1.8782,\n",
       "         1.6365]])"
      ]
     },
     "execution_count": 79,
     "metadata": {},
     "output_type": "execute_result"
    }
   ],
   "source": [
    "torch.rand(1,10)*2  # 0에서 2사이를 10개 균일하게 만들어라"
   ]
  },
  {
   "cell_type": "code",
   "execution_count": 80,
   "id": "445bc5dc",
   "metadata": {},
   "outputs": [
    {
     "data": {
      "text/plain": [
       "tensor([[ 0.7991,  0.9679,  0.4244,  0.6546,  0.4157,  0.6884, -0.0975, -0.5652,\n",
       "         -0.9143,  0.9531]])"
      ]
     },
     "execution_count": 80,
     "metadata": {},
     "output_type": "execute_result"
    }
   ],
   "source": [
    "torch.rand(1,10)*2-1  # -1에서 1사이를 10개 균일하게 만들어라"
   ]
  },
  {
   "cell_type": "markdown",
   "id": "49661d96",
   "metadata": {},
   "source": [
    "### 정규 분포 생성(가우시안)"
   ]
  },
  {
   "cell_type": "markdown",
   "id": "dc0111ee",
   "metadata": {},
   "source": [
    "* torch.randn   \n",
    "정규분포 mean = 0, variance(분산)= 1 생성 명령어 "
   ]
  },
  {
   "cell_type": "code",
   "execution_count": 91,
   "id": "86a57361",
   "metadata": {
    "scrolled": true
   },
   "outputs": [
    {
     "data": {
      "text/plain": [
       "1.4142135623730951"
      ]
     },
     "execution_count": 91,
     "metadata": {},
     "output_type": "execute_result"
    }
   ],
   "source": [
    "np.sqrt(2)"
   ]
  },
  {
   "cell_type": "code",
   "execution_count": 83,
   "id": "f7dd217d",
   "metadata": {},
   "outputs": [
    {
     "data": {
      "text/plain": [
       "tensor([[ 1.7087, -1.0485, -0.3807,  0.6213],\n",
       "        [ 0.2235, -0.9081, -0.7254, -1.0063],\n",
       "        [ 1.9533, -0.1824, -1.2414,  0.4336]])"
      ]
     },
     "execution_count": 83,
     "metadata": {},
     "output_type": "execute_result"
    }
   ],
   "source": [
    "# 평균은 0 분산은 1\n",
    "\n",
    "e = torch.randn(3,4) # 정규분포로 3 x 4의 표본을 하나 뽑아라.\n",
    "e"
   ]
  },
  {
   "cell_type": "code",
   "execution_count": 87,
   "id": "50742ae6",
   "metadata": {},
   "outputs": [
    {
     "data": {
      "text/plain": [
       "tensor([[ 4.1293, -0.0393,  1.9475,  ...,  0.9257,  0.6821, -0.4722],\n",
       "        [ 1.2610,  2.1346,  1.6513,  ...,  2.0984,  1.0612,  0.9981],\n",
       "        [ 2.0725,  3.1360,  1.9732,  ...,  3.3869,  3.2055,  1.5600],\n",
       "        ...,\n",
       "        [ 2.2674,  0.4440,  2.4792,  ...,  1.9872,  0.1659, -0.0711],\n",
       "        [ 0.3229,  2.0698,  1.9806,  ...,  2.5299,  0.3963,  2.9487],\n",
       "        [ 1.8989,  1.9976,  1.6799,  ...,  1.7188,  1.5005,  1.3081]])"
      ]
     },
     "execution_count": 87,
     "metadata": {},
     "output_type": "execute_result"
    }
   ],
   "source": [
    "# 평균이 2이면?\n",
    "e = torch.randn(30,40)+2  \n",
    "e"
   ]
  },
  {
   "cell_type": "code",
   "execution_count": 88,
   "id": "2ecc88d9",
   "metadata": {},
   "outputs": [
    {
     "data": {
      "text/plain": [
       "tensor(1.9819)"
      ]
     },
     "execution_count": 88,
     "metadata": {},
     "output_type": "execute_result"
    }
   ],
   "source": [
    "torch.mean(e)"
   ]
  },
  {
   "cell_type": "code",
   "execution_count": 33,
   "id": "5c1ea46e",
   "metadata": {},
   "outputs": [
    {
     "name": "stdout",
     "output_type": "stream",
     "text": [
      "tensor(1.9531)\n",
      "tensor(3.8557)\n"
     ]
    }
   ],
   "source": [
    "# 평균 2, 분산 4\n",
    "q = 2*torch.randn(30,40)+2  \n",
    "print(torch.mean(q))\n",
    "print(torch.var(q))"
   ]
  },
  {
   "cell_type": "code",
   "execution_count": 89,
   "id": "d1a57a77",
   "metadata": {},
   "outputs": [
    {
     "data": {
      "text/plain": [
       "tensor([[ 3.3345, -1.1175,  4.0591,  ...,  1.5204,  2.8615,  4.1799],\n",
       "        [ 1.2618,  0.8424, -0.2210,  ...,  1.4356, -0.2304,  0.8992],\n",
       "        [ 1.5582,  2.6392,  1.9263,  ...,  4.6475,  1.6393,  3.5668],\n",
       "        ...,\n",
       "        [ 0.7264,  1.8440, -1.2110,  ...,  5.3537,  0.4646,  1.4961],\n",
       "        [ 0.4283,  0.9671,  1.1403,  ...,  1.7353,  2.5364,  3.0900],\n",
       "        [ 2.8852,  3.0414,  1.5065,  ...,  4.5485,  1.5528,  2.7030]])"
      ]
     },
     "execution_count": 89,
     "metadata": {},
     "output_type": "execute_result"
    }
   ],
   "source": [
    "# 분산이 2이면?  -> np.sqrt(2)\n",
    "e = np.sqrt(2)*torch.randn(30,40)+2  \n",
    "e"
   ]
  },
  {
   "cell_type": "code",
   "execution_count": 90,
   "id": "5a8a2511",
   "metadata": {},
   "outputs": [
    {
     "data": {
      "text/plain": [
       "tensor(2.0435)"
      ]
     },
     "execution_count": 90,
     "metadata": {},
     "output_type": "execute_result"
    }
   ],
   "source": [
    "torch.var(e)  # 분산이 2로 나옴"
   ]
  },
  {
   "cell_type": "code",
   "execution_count": 95,
   "id": "d378d54f",
   "metadata": {},
   "outputs": [
    {
     "data": {
      "text/plain": [
       "tensor([ 0.0000e+00,  3.2470e-01,  6.1421e-01,  8.3717e-01,  9.6940e-01,\n",
       "         9.9658e-01,  9.1577e-01,  7.3572e-01,  4.7595e-01,  1.6459e-01,\n",
       "        -1.6459e-01, -4.7595e-01, -7.3572e-01, -9.1577e-01, -9.9658e-01,\n",
       "        -9.6940e-01, -8.3717e-01, -6.1421e-01, -3.2470e-01,  1.7485e-07])"
      ]
     },
     "execution_count": 95,
     "metadata": {},
     "output_type": "execute_result"
    }
   ],
   "source": [
    "a = 2*np.pi*torch.linspace(0, 1, 20)\n",
    "s = torch.sin(a)\n",
    "s"
   ]
  },
  {
   "cell_type": "code",
   "execution_count": 96,
   "id": "0b708dfc",
   "metadata": {},
   "outputs": [],
   "source": [
    "import matplotlib.pyplot as plt"
   ]
  },
  {
   "cell_type": "code",
   "execution_count": 99,
   "id": "8fcc919c",
   "metadata": {},
   "outputs": [
    {
     "data": {
      "text/plain": [
       "[<matplotlib.lines.Line2D at 0x2113df66ac0>]"
      ]
     },
     "execution_count": 99,
     "metadata": {},
     "output_type": "execute_result"
    },
    {
     "data": {
      "image/png": "[encoded data removed]",
      "text/plain": [
       "<Figure size 640x480 with 1 Axes>"
      ]
     },
     "metadata": {},
     "output_type": "display_data"
    }
   ],
   "source": [
    "plt.plot(a, s)"
   ]
  },
  {
   "cell_type": "markdown",
   "id": "1c8de9e0",
   "metadata": {},
   "source": [
    "* 차원축소 squeeze"
   ]
  },
  {
   "cell_type": "code",
   "execution_count": 101,
   "id": "aab6db51",
   "metadata": {},
   "outputs": [],
   "source": [
    "f = torch.tensor([[[1,2,3,4]]])"
   ]
  },
  {
   "cell_type": "code",
   "execution_count": 102,
   "id": "a0ce9eca",
   "metadata": {},
   "outputs": [
    {
     "data": {
      "text/plain": [
       "torch.Size([1, 1, 4])"
      ]
     },
     "execution_count": 102,
     "metadata": {},
     "output_type": "execute_result"
    }
   ],
   "source": [
    "f.shape"
   ]
  },
  {
   "cell_type": "code",
   "execution_count": 104,
   "id": "1714b70a",
   "metadata": {},
   "outputs": [
    {
     "data": {
      "text/plain": [
       "torch.Size([4])"
      ]
     },
     "execution_count": 104,
     "metadata": {},
     "output_type": "execute_result"
    }
   ],
   "source": [
    "f.squeeze().shape  # squeeze는 차원이 여러개일 때 1짜리는 다 생략해서 출력한다. "
   ]
  },
  {
   "cell_type": "code",
   "execution_count": null,
   "id": "fd9ba317",
   "metadata": {},
   "outputs": [],
   "source": []
  },
  {
   "cell_type": "code",
   "execution_count": 106,
   "id": "8b7b771c",
   "metadata": {},
   "outputs": [
    {
     "data": {
      "text/plain": [
       "tensor([[0, 1],\n",
       "        [2, 3],\n",
       "        [4, 5]])"
      ]
     },
     "execution_count": 106,
     "metadata": {},
     "output_type": "execute_result"
    }
   ],
   "source": [
    "A = torch.arange(0,6).reshape(3, 2)\n",
    "A"
   ]
  },
  {
   "cell_type": "code",
   "execution_count": 108,
   "id": "68f769e7",
   "metadata": {},
   "outputs": [
    {
     "data": {
      "text/plain": [
       "tensor([[ 1.2647,  1.4983],\n",
       "        [ 1.9549,  0.5330],\n",
       "        [-0.1010, -0.8006]])"
      ]
     },
     "execution_count": 108,
     "metadata": {},
     "output_type": "execute_result"
    }
   ],
   "source": [
    "B = torch.randn(3,2)\n",
    "B"
   ]
  },
  {
   "cell_type": "code",
   "execution_count": 109,
   "id": "0d0bfe79",
   "metadata": {},
   "outputs": [
    {
     "data": {
      "text/plain": [
       "tensor([[1.2647, 2.4983],\n",
       "        [3.9549, 3.5330],\n",
       "        [3.8990, 4.1994]])"
      ]
     },
     "execution_count": 109,
     "metadata": {},
     "output_type": "execute_result"
    }
   ],
   "source": [
    "A+B"
   ]
  },
  {
   "cell_type": "code",
   "execution_count": 110,
   "id": "53217778",
   "metadata": {},
   "outputs": [
    {
     "data": {
      "text/plain": [
       "tensor([[0],\n",
       "        [2],\n",
       "        [4]])"
      ]
     },
     "execution_count": 110,
     "metadata": {},
     "output_type": "execute_result"
    }
   ],
   "source": [
    "a1 = A[:, 0].reshape(3, 1)  \n",
    "a1   "
   ]
  },
  {
   "cell_type": "code",
   "execution_count": 111,
   "id": "7eb79966",
   "metadata": {},
   "outputs": [
    {
     "data": {
      "text/plain": [
       "tensor([[ 1.4983],\n",
       "        [ 0.5330],\n",
       "        [-0.8006]])"
      ]
     },
     "execution_count": 111,
     "metadata": {},
     "output_type": "execute_result"
    }
   ],
   "source": [
    "b2 = B[:, 1].reshape(-1,1)\n",
    "b2"
   ]
  },
  {
   "cell_type": "markdown",
   "id": "5c4958c6",
   "metadata": {},
   "source": [
    "* 행렬곱"
   ]
  },
  {
   "cell_type": "code",
   "execution_count": 112,
   "id": "ef2adccc",
   "metadata": {},
   "outputs": [
    {
     "ename": "RuntimeError",
     "evalue": "expected scalar type Long but found Float",
     "output_type": "error",
     "traceback": [
      "\u001b[1;31m---------------------------------------------------------------------------\u001b[0m",
      "\u001b[1;31mRuntimeError\u001b[0m                              Traceback (most recent call last)",
      "\u001b[1;32m~\\AppData\\Local\\Temp\\ipykernel_14368\\4294434410.py\u001b[0m in \u001b[0;36m<module>\u001b[1;34m\u001b[0m\n\u001b[1;32m----> 1\u001b[1;33m \u001b[0mtorch\u001b[0m\u001b[1;33m.\u001b[0m\u001b[0mmatmul\u001b[0m\u001b[1;33m(\u001b[0m\u001b[0ma1\u001b[0m\u001b[1;33m.\u001b[0m\u001b[0mT\u001b[0m\u001b[1;33m,\u001b[0m \u001b[0mb2\u001b[0m\u001b[1;33m)\u001b[0m\u001b[1;33m\u001b[0m\u001b[1;33m\u001b[0m\u001b[0m\n\u001b[0m",
      "\u001b[1;31mRuntimeError\u001b[0m: expected scalar type Long but found Float"
     ]
    }
   ],
   "source": [
    "# a1.T의 타입은 int이고, b2의 타입은 float이기 때문에 둘의 dtype가 맞지 않아서 에러 발생!\n",
    "torch.matmul(a1.T, b2)"
   ]
  },
  {
   "cell_type": "code",
   "execution_count": 115,
   "id": "8984c432",
   "metadata": {},
   "outputs": [],
   "source": [
    "# 두개의 타입을 같게 해주면 된다.\n",
    "# a1의 타입을 float32로 바꿔보자.\n",
    "a1 = a1.type(torch.float32)"
   ]
  },
  {
   "cell_type": "code",
   "execution_count": 116,
   "id": "a6bf2e1a",
   "metadata": {},
   "outputs": [
    {
     "data": {
      "text/plain": [
       "tensor([[-2.1365]])"
      ]
     },
     "execution_count": 116,
     "metadata": {},
     "output_type": "execute_result"
    }
   ],
   "source": [
    "torch.matmul(a1.T, b2)"
   ]
  },
  {
   "cell_type": "code",
   "execution_count": 34,
   "id": "6a7cc229",
   "metadata": {},
   "outputs": [
    {
     "data": {
      "text/plain": [
       "tensor([[ 3,  4,  5,  6],\n",
       "        [ 7,  8,  9, 10]])"
      ]
     },
     "execution_count": 34,
     "metadata": {},
     "output_type": "execute_result"
    }
   ],
   "source": [
    "A = torch.arange(3,11, 1).reshape(2,4)\n",
    "A"
   ]
  },
  {
   "cell_type": "code",
   "execution_count": 35,
   "id": "aa61d401",
   "metadata": {},
   "outputs": [
    {
     "data": {
      "text/plain": [
       "tensor([18, 34])"
      ]
     },
     "execution_count": 35,
     "metadata": {},
     "output_type": "execute_result"
    }
   ],
   "source": [
    "torch.sum(A, axis = 1)"
   ]
  },
  {
   "cell_type": "code",
   "execution_count": 118,
   "id": "0d0e9a14",
   "metadata": {},
   "outputs": [
    {
     "data": {
      "text/plain": [
       "tensor([[18],\n",
       "        [34]])"
      ]
     },
     "execution_count": 118,
     "metadata": {},
     "output_type": "execute_result"
    }
   ],
   "source": [
    "c = torch.sum(A, axis = 1).reshape(-1,1)  # 행 방향은 axis = 1, 열 방향은 axis = 0\n",
    "c"
   ]
  },
  {
   "cell_type": "code",
   "execution_count": 36,
   "id": "ae0dd950",
   "metadata": {},
   "outputs": [
    {
     "data": {
      "text/plain": [
       "tensor([10, 12, 14, 16])"
      ]
     },
     "execution_count": 36,
     "metadata": {},
     "output_type": "execute_result"
    }
   ],
   "source": [
    "torch.sum(A, axis = 0)"
   ]
  },
  {
   "cell_type": "code",
   "execution_count": 120,
   "id": "36a52aff",
   "metadata": {
    "scrolled": true
   },
   "outputs": [
    {
     "data": {
      "text/plain": [
       "tensor([[10, 12, 14, 16]])"
      ]
     },
     "execution_count": 120,
     "metadata": {},
     "output_type": "execute_result"
    }
   ],
   "source": [
    "torch.sum(A, axis = 0).reshape(1,-1) "
   ]
  },
  {
   "cell_type": "code",
   "execution_count": null,
   "id": "2e89834c",
   "metadata": {},
   "outputs": [],
   "source": []
  },
  {
   "cell_type": "code",
   "execution_count": 121,
   "id": "de8e0cff",
   "metadata": {},
   "outputs": [
    {
     "data": {
      "text/plain": [
       "tensor([[ 3,  4,  5,  6],\n",
       "        [ 7,  8,  9, 10]])"
      ]
     },
     "execution_count": 121,
     "metadata": {},
     "output_type": "execute_result"
    }
   ],
   "source": [
    "A = torch.arange(3,11, 1).reshape(2,4)\n",
    "A"
   ]
  },
  {
   "cell_type": "code",
   "execution_count": 123,
   "id": "144de5ee",
   "metadata": {},
   "outputs": [
    {
     "data": {
      "text/plain": [
       "tensor([[5., 6., 7., 8.]])"
      ]
     },
     "execution_count": 123,
     "metadata": {},
     "output_type": "execute_result"
    }
   ],
   "source": [
    "c = torch.mean(A.type(torch.float32), axis = 0).reshape(1,-1)  \n",
    "c"
   ]
  },
  {
   "cell_type": "code",
   "execution_count": 125,
   "id": "04e47963",
   "metadata": {},
   "outputs": [
    {
     "data": {
      "text/plain": [
       "tensor([[4.5000],\n",
       "        [8.5000]])"
      ]
     },
     "execution_count": 125,
     "metadata": {},
     "output_type": "execute_result"
    }
   ],
   "source": [
    "torch.mean(A.type(torch.float32), axis = 1).reshape(-1,1)"
   ]
  },
  {
   "cell_type": "code",
   "execution_count": 126,
   "id": "97a51670",
   "metadata": {},
   "outputs": [
    {
     "data": {
      "text/plain": [
       "tensor([[ 360.],\n",
       "        [5040.]])"
      ]
     },
     "execution_count": 126,
     "metadata": {},
     "output_type": "execute_result"
    }
   ],
   "source": [
    "# r곱 -> 3x4x5x6\n",
    "torch.prod(A.type(torch.float32), axis = 1).reshape(-1,1)  "
   ]
  },
  {
   "cell_type": "code",
   "execution_count": null,
   "id": "ad9e652e",
   "metadata": {},
   "outputs": [],
   "source": []
  }
 ],
 "metadata": {
  "kernelspec": {
   "display_name": "Python 3 (ipykernel)",
   "language": "python",
   "name": "python3"
  },
  "language_info": {
   "codemirror_mode": {
    "name": "ipython",
    "version": 3
   },
   "file_extension": ".py",
   "mimetype": "text/x-python",
   "name": "python",
   "nbconvert_exporter": "python",
   "pygments_lexer": "ipython3",
   "version": "3.9.13"
  }
 },
 "nbformat": 4,
 "nbformat_minor": 5
}
